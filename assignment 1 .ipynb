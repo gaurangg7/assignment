{
 "cells": [
  {
   "cell_type": "code",
   "execution_count": 1,
   "id": "b2ded66c-fe05-457d-ba72-79ba9d1aa6e9",
   "metadata": {},
   "outputs": [],
   "source": [
    "i = 'sting'"
   ]
  },
  {
   "cell_type": "code",
   "execution_count": 2,
   "id": "50632e1d-3968-4c73-83e1-3f6d2250e10f",
   "metadata": {},
   "outputs": [
    {
     "data": {
      "text/plain": [
       "str"
      ]
     },
     "execution_count": 2,
     "metadata": {},
     "output_type": "execute_result"
    }
   ],
   "source": [
    "type(i)"
   ]
  },
  {
   "cell_type": "code",
   "execution_count": 3,
   "id": "deca8c4d-ac03-42f3-8f0c-8cdcfe1e8fdf",
   "metadata": {},
   "outputs": [],
   "source": [
    "p = [3,4,5]"
   ]
  },
  {
   "cell_type": "code",
   "execution_count": 4,
   "id": "780e483e-ae64-44b8-96c6-16678eb07b8e",
   "metadata": {},
   "outputs": [
    {
     "data": {
      "text/plain": [
       "list"
      ]
     },
     "execution_count": 4,
     "metadata": {},
     "output_type": "execute_result"
    }
   ],
   "source": [
    "type (p)"
   ]
  },
  {
   "cell_type": "code",
   "execution_count": 14,
   "id": "6719973c-702e-47c5-ad82-69c2bd12923b",
   "metadata": {},
   "outputs": [],
   "source": [
    "q = 89.88"
   ]
  },
  {
   "cell_type": "code",
   "execution_count": 15,
   "id": "5fd391e7-81ec-4790-afa1-672a285c6d1a",
   "metadata": {},
   "outputs": [
    {
     "data": {
      "text/plain": [
       "float"
      ]
     },
     "execution_count": 15,
     "metadata": {},
     "output_type": "execute_result"
    }
   ],
   "source": [
    "type(q)"
   ]
  },
  {
   "cell_type": "code",
   "execution_count": 12,
   "id": "2809725a-08c1-4e35-98a7-6599db6ec6d8",
   "metadata": {},
   "outputs": [],
   "source": [
    "r = (4,5,6,7)"
   ]
  },
  {
   "cell_type": "code",
   "execution_count": 9,
   "id": "667a1eb4-d0ab-4d3a-8387-e0db64b38d9a",
   "metadata": {},
   "outputs": [
    {
     "data": {
      "text/plain": [
       "tuple"
      ]
     },
     "execution_count": 9,
     "metadata": {},
     "output_type": "execute_result"
    }
   ],
   "source": [
    "type(r)"
   ]
  },
  {
   "cell_type": "code",
   "execution_count": 22,
   "id": "0590e987-48da-4701-8b42-0e7c2b180cd4",
   "metadata": {},
   "outputs": [
    {
     "data": {
      "text/plain": [
       "' (Q-2)'"
      ]
     },
     "execution_count": 22,
     "metadata": {},
     "output_type": "execute_result"
    }
   ],
   "source": [
    "' (Q-2)'\n",
    "\n",
    "\n",
    "\n"
   ]
  },
  {
   "cell_type": "code",
   "execution_count": 25,
   "id": "081bc901-69d1-4356-85da-89b7c2f29228",
   "metadata": {},
   "outputs": [
    {
     "data": {
      "text/plain": [
       "'ans 1 string'"
      ]
     },
     "execution_count": 25,
     "metadata": {},
     "output_type": "execute_result"
    }
   ],
   "source": [
    "\"ans 1 string\""
   ]
  },
  {
   "cell_type": "code",
   "execution_count": 26,
   "id": "9542d3af-3734-469e-8a60-6cb07c70c660",
   "metadata": {},
   "outputs": [
    {
     "data": {
      "text/plain": [
       "'ans 2 string'"
      ]
     },
     "execution_count": 26,
     "metadata": {},
     "output_type": "execute_result"
    }
   ],
   "source": [
    "\"ans 2 string\""
   ]
  },
  {
   "cell_type": "code",
   "execution_count": 27,
   "id": "426983eb-7887-4fb4-9bbf-ecc95bdd98b5",
   "metadata": {},
   "outputs": [
    {
     "data": {
      "text/plain": [
       "'ans 3 list '"
      ]
     },
     "execution_count": 27,
     "metadata": {},
     "output_type": "execute_result"
    }
   ],
   "source": [
    "\"ans 3 list \""
   ]
  },
  {
   "cell_type": "code",
   "execution_count": 28,
   "id": "df521f24-e34b-4a67-b1a4-3ea235fbe9a5",
   "metadata": {},
   "outputs": [
    {
     "data": {
      "text/plain": [
       "'ans 4 float'"
      ]
     },
     "execution_count": 28,
     "metadata": {},
     "output_type": "execute_result"
    }
   ],
   "source": [
    "\"ans 4 float\" \n"
   ]
  },
  {
   "cell_type": "code",
   "execution_count": 29,
   "id": "7fb1a3f8-81c5-4119-b3e5-234c2f9e7985",
   "metadata": {},
   "outputs": [
    {
     "data": {
      "text/plain": [
       "1.0"
      ]
     },
     "execution_count": 29,
     "metadata": {},
     "output_type": "execute_result"
    }
   ],
   "source": [
    "3/3"
   ]
  },
  {
   "cell_type": "code",
   "execution_count": 30,
   "id": "fbe3fb9f-20c6-4544-b473-562a7fd05696",
   "metadata": {},
   "outputs": [
    {
     "data": {
      "text/plain": [
       "2.5"
      ]
     },
     "execution_count": 30,
     "metadata": {},
     "output_type": "execute_result"
    }
   ],
   "source": [
    "5/2"
   ]
  },
  {
   "cell_type": "code",
   "execution_count": 31,
   "id": "91d856a1-7997-46d9-b8c8-6c7735dfe38a",
   "metadata": {},
   "outputs": [
    {
     "data": {
      "text/plain": [
       "' / uses to divide the value of 1st input by the 2nd input as we divided 5 with 2 which gives the ans as 2.5'"
      ]
     },
     "execution_count": 31,
     "metadata": {},
     "output_type": "execute_result"
    }
   ],
   "source": [
    "' / uses to divide the value of 1st input by the 2nd input as we divided 5 with 2 which gives the ans as 2.5'"
   ]
  },
  {
   "cell_type": "code",
   "execution_count": 32,
   "id": "f4546b0d-383f-44f2-93be-f2a67dc97e0c",
   "metadata": {},
   "outputs": [
    {
     "data": {
      "text/plain": [
       "0"
      ]
     },
     "execution_count": 32,
     "metadata": {},
     "output_type": "execute_result"
    }
   ],
   "source": [
    "3%1"
   ]
  },
  {
   "cell_type": "code",
   "execution_count": 33,
   "id": "28caf13b-3e98-4741-9534-4f3c8304c91a",
   "metadata": {},
   "outputs": [
    {
     "data": {
      "text/plain": [
       "1"
      ]
     },
     "execution_count": 33,
     "metadata": {},
     "output_type": "execute_result"
    }
   ],
   "source": [
    "5%2"
   ]
  },
  {
   "cell_type": "code",
   "execution_count": 34,
   "id": "e77dbeea-d370-41ef-b5b3-38b1fc4219a0",
   "metadata": {},
   "outputs": [
    {
     "data": {
      "text/plain": [
       "'% works as a modulo b which means the remainder left after substracting b from the vakue of a until the value becomes 0 or lesser than b '"
      ]
     },
     "execution_count": 34,
     "metadata": {},
     "output_type": "execute_result"
    }
   ],
   "source": [
    "'% works as a modulo b which means the remainder left after substracting b from the vakue of a until the value becomes 0 or lesser than b '"
   ]
  },
  {
   "cell_type": "code",
   "execution_count": 38,
   "id": "a5ee3240-06a2-4796-8bee-d27dfdaa3148",
   "metadata": {},
   "outputs": [
    {
     "data": {
      "text/plain": [
       "1"
      ]
     },
     "execution_count": 38,
     "metadata": {},
     "output_type": "execute_result"
    }
   ],
   "source": [
    "4//4"
   ]
  },
  {
   "cell_type": "code",
   "execution_count": 39,
   "id": "0ac5d0f7-d760-4d33-95d0-89c48d9c92bb",
   "metadata": {},
   "outputs": [
    {
     "data": {
      "text/plain": [
       "3"
      ]
     },
     "execution_count": 39,
     "metadata": {},
     "output_type": "execute_result"
    }
   ],
   "source": [
    "10//3"
   ]
  },
  {
   "cell_type": "code",
   "execution_count": 40,
   "id": "54d8c50b-0912-4212-8748-688c1f22568e",
   "metadata": {},
   "outputs": [
    {
     "data": {
      "text/plain": [
       "' // uses for  the floor division operator. it is used to divide two numbers and round the result down to nearest whole number '"
      ]
     },
     "execution_count": 40,
     "metadata": {},
     "output_type": "execute_result"
    }
   ],
   "source": [
    "' // uses for  the floor division operator. it is used to divide two numbers and round the result down to nearest whole number '"
   ]
  },
  {
   "cell_type": "code",
   "execution_count": 41,
   "id": "12fa640b-0150-4cd5-ba60-c948dcaca80e",
   "metadata": {},
   "outputs": [
    {
     "data": {
      "text/plain": [
       "81"
      ]
     },
     "execution_count": 41,
     "metadata": {},
     "output_type": "execute_result"
    }
   ],
   "source": [
    "3**4"
   ]
  },
  {
   "cell_type": "code",
   "execution_count": 42,
   "id": "7fe1fba2-ac00-4079-8118-1cf4267f6670",
   "metadata": {},
   "outputs": [
    {
     "data": {
      "text/plain": [
       "'** uses for examp;e a**b  multiplying a b times '"
      ]
     },
     "execution_count": 42,
     "metadata": {},
     "output_type": "execute_result"
    }
   ],
   "source": [
    "'** uses for examp;e a**b  multiplying a b times ' "
   ]
  },
  {
   "cell_type": "code",
   "execution_count": 58,
   "id": "e7780607-5248-4b29-89a4-3967327a2d42",
   "metadata": {},
   "outputs": [],
   "source": [
    "l = ['pw sklls has 2.0 data science class which are not good as 1.0 ', 2 ,3.004, True,5,6,78,99,'ineuron' ,  ' you are not a coder yet' ]"
   ]
  },
  {
   "cell_type": "code",
   "execution_count": 59,
   "id": "99b3dece-ee21-41fd-b039-f2e9dc8549e8",
   "metadata": {},
   "outputs": [
    {
     "name": "stdout",
     "output_type": "stream",
     "text": [
      "<class 'str'>\n",
      "<class 'int'>\n",
      "<class 'float'>\n",
      "<class 'bool'>\n",
      "<class 'int'>\n",
      "<class 'int'>\n",
      "<class 'int'>\n",
      "<class 'int'>\n",
      "<class 'str'>\n",
      "<class 'str'>\n"
     ]
    }
   ],
   "source": [
    "for i in l :\n",
    "    print (type(i))"
   ]
  },
  {
   "cell_type": "code",
   "execution_count": 1,
   "id": "745b0abd-e550-45e4-afb1-0ae13a160c0f",
   "metadata": {},
   "outputs": [
    {
     "name": "stdin",
     "output_type": "stream",
     "text": [
      "Enter the value of A:  88 \n",
      "Enter the value of B:  2\n"
     ]
    },
    {
     "name": "stdout",
     "output_type": "stream",
     "text": [
      "A is divisible by B 3 times.\n"
     ]
    }
   ],
   "source": [
    "A = int(input(\"Enter the value of A: \"))\n",
    "B = int(input(\"Enter the value of B: \"))\n",
    "\n",
    "count = 0\n",
    "\n",
    "while A % B == 0:\n",
    "    A = A / B\n",
    "    count += 1\n",
    "\n",
    "print(\"A is divisible by B\", count, \"times.\")"
   ]
  },
  {
   "cell_type": "code",
   "execution_count": 6,
   "id": "1b3c1f03-bd1a-4f4b-99fa-d2fc3d1d45c6",
   "metadata": {},
   "outputs": [
    {
     "name": "stdout",
     "output_type": "stream",
     "text": [
      "12 is divisible by 3\n",
      "45 is divisible by 3\n",
      "33 is divisible by 3\n",
      "8 is not divisible by 3\n",
      "27 is divisible by 3\n",
      "14 is not divisible by 3\n",
      "9 is divisible by 3\n",
      "22 is not divisible by 3\n",
      "18 is divisible by 3\n",
      "5 is not divisible by 3\n",
      "30 is divisible by 3\n",
      "7 is not divisible by 3\n",
      "42 is divisible by 3\n",
      "19 is not divisible by 3\n",
      "36 is divisible by 3\n",
      "2 is not divisible by 3\n",
      "15 is divisible by 3\n",
      "11 is not divisible by 3\n",
      "25 is not divisible by 3\n",
      "39 is divisible by 3\n",
      "17 is not divisible by 3\n",
      "21 is divisible by 3\n",
      "6 is divisible by 3\n",
      "29 is not divisible by 3\n",
      "16 is not divisible by 3\n"
     ]
    }
   ],
   "source": [
    "# Create a list of 25 int type data\n",
    "numbers = [12, 45, 33, 8, 27, 14, 9, 22, 18, 5, 30, 7, 42, 19, 36, 2, 15, 11, 25, 39, 17, 21, 6, 29, 16]\n",
    "\n",
    "# Iterate over each element in the list\n",
    "for num in numbers:\n",
    "    # Check if the element is divisible by 3\n",
    "    if num % 3 == 0:\n",
    "        print(num, \"is divisible by 3\")\n",
    "    else:\n",
    "        print(num, \"is not divisible by 3\")"
   ]
  },
  {
   "cell_type": "code",
   "execution_count": 7,
   "id": "fa4b861d-e9ca-4a4f-8230-4774e8994003",
   "metadata": {},
   "outputs": [
    {
     "name": "stdout",
     "output_type": "stream",
     "text": [
      "Hello\n",
      "Hello\n",
      "Hello World\n",
      "Hello\n"
     ]
    }
   ],
   "source": [
    "string1 = \"Hello\"\n",
    "string2 = string1  # Assigning string1 to string2\n",
    "\n",
    "print(string1)  # Output: Hello\n",
    "print(string2)  # Output: Hello\n",
    "\n",
    "# Modifying string1\n",
    "string1 += \" World\"\n",
    "\n",
    "print(string1)  # Output: Hello World\n",
    "print(string2)  # Output: Hello (string2 remains unchanged)"
   ]
  },
  {
   "cell_type": "code",
   "execution_count": 9,
   "id": "93aaa28e-0181-41c1-86ef-c00a08759e96",
   "metadata": {},
   "outputs": [
    {
     "name": "stdout",
     "output_type": "stream",
     "text": [
      "[1, 2, 3]\n",
      "[1, 2, 3, 4]\n"
     ]
    }
   ],
   "source": [
    "l = [1,2,3]\n",
    "j = l \n",
    "print (l)\n",
    "\n",
    "#modifie list \n",
    "l.append(4)\n",
    "print (l)"
   ]
  },
  {
   "cell_type": "code",
   "execution_count": null,
   "id": "d4019df6-099e-4498-b6d6-a73e99935cab",
   "metadata": {},
   "outputs": [],
   "source": []
  }
 ],
 "metadata": {
  "kernelspec": {
   "display_name": "Python 3 (ipykernel)",
   "language": "python",
   "name": "python3"
  },
  "language_info": {
   "codemirror_mode": {
    "name": "ipython",
    "version": 3
   },
   "file_extension": ".py",
   "mimetype": "text/x-python",
   "name": "python",
   "nbconvert_exporter": "python",
   "pygments_lexer": "ipython3",
   "version": "3.10.8"
  }
 },
 "nbformat": 4,
 "nbformat_minor": 5
}
